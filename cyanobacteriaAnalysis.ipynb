{
 "cells": [
  {
   "cell_type": "code",
   "execution_count": 1,
   "id": "5a7ef7fd",
   "metadata": {},
   "outputs": [],
   "source": [
    "import re, math, json\n",
    "from pathlib import Path\n",
    "import numpy as np\n",
    "import pandas as pd\n",
    "import rasterio\n",
    "import matplotlib.pyplot as plt\n"
   ]
  },
  {
   "cell_type": "markdown",
   "id": "59ff905a",
   "metadata": {},
   "source": [
    "### Configuración"
   ]
  },
  {
   "cell_type": "code",
   "execution_count": 2,
   "id": "8693df05",
   "metadata": {},
   "outputs": [],
   "source": [
    "BASE = Path(\"descargas_sentinelhub\")  # carpeta de los TIF\n",
    "LAKES = [\"atitlan\", \"amatitlan\"]      # subcarpetas\n",
    "BANDS_SUFFIX = \".bands.tiff\"    # 9 bandas: B02,B03,B04,B05,B07,B08,B8A,B11,B12 (float32)\n",
    "MASK_SUFFIX  = \".mask.tiff\"           # 2 bandas: SCL, dataMask (uint8)\n",
    "SCL_BAD = {3,8,9,10,11}\n",
    "\n",
    "# Umbrales del script CyanoLakes\n",
    "MNDWI_thr = 0.42\n",
    "NDWI_thr  = 0.4\n",
    "FILTER_UABS = True"
   ]
  },
  {
   "cell_type": "markdown",
   "id": "fbe28325",
   "metadata": {},
   "source": [
    "### Funciones de utilidad"
   ]
  },
  {
   "cell_type": "code",
   "execution_count": 3,
   "id": "ef6ea1a9",
   "metadata": {},
   "outputs": [],
   "source": [
    "def list_date_bases(lake_folder: Path):\n",
    "    \"\"\"\n",
    "    Devuelve una lista de paths 'base' por fecha para un lago:\n",
    "    BASE/lake/lake__YYYY-MM-DD  (sin sufijo)\n",
    "    \"\"\"\n",
    "    bases = []\n",
    "    for tif in lake_folder.glob(f\"*__20??-??-??{BANDS_SUFFIX}\"):\n",
    "        date = re.search(r\"__(\\d{4}-\\d{2}-\\d{2})\\.bands\\.tiff$\", tif.name).group(1)\n",
    "        base = tif.with_suffix(\"\").with_suffix(\"\")\n",
    "        bases.append((date, base))\n",
    "    return sorted(bases, key=lambda x: x[0])\n",
    "\n",
    "def load_stack(base_path: Path):\n",
    "    \"\"\"Lee el stack de 9 bandas (float32 reflectancia) y la máscara (SCL, dataMask).\"\"\"\n",
    "    bands_path = base_path.with_suffix(BANDS_SUFFIX)\n",
    "    mask_path  = base_path.with_suffix(MASK_SUFFIX)\n",
    "\n",
    "    with rasterio.open(bands_path) as src:\n",
    "        stack = src.read().astype(\"float32\")\n",
    "        b02,b03,b04,b05,b07,b08,b8a,b11,b12 = stack\n",
    "\n",
    "    with rasterio.open(mask_path) as msrc:\n",
    "        m = msrc.read()\n",
    "        scl, dm = m[0].astype(\"int16\"), m[1].astype(\"int16\")\n",
    "\n",
    "    return (b02,b03,b04,b05,b07,b08,b8a,b11,b12), scl, dm"
   ]
  },
  {
   "cell_type": "markdown",
   "id": "43f6e8f3",
   "metadata": {},
   "source": [
    "### Índices calculados del script de Cyanobacteria"
   ]
  },
  {
   "cell_type": "code",
   "execution_count": 4,
   "id": "8e7b4006",
   "metadata": {},
   "outputs": [],
   "source": [
    "\n",
    "def water_mask(b02,b03,b04,b08,b11,b12):\n",
    "    ndvi  = (b08 - b04) / (b08 + b04 + 1e-6)                                     # (ndvi)\n",
    "    mndwi = (b03 - b11) / (b03 + b11 + 1e-6)                                     # (mndwi)\n",
    "    ndwi  = (b03 - b08) / (b03 + b08 + 1e-6)                                     # (ndwi)\n",
    "    ndwi_leaves = (b08 - b11) / (b08 + b11 + 1e-6)                               # (ndwi_leaves)\n",
    "    aweish  = b02 + 2.5*b03 - 1.5*(b08 + b11) - 0.25*b12                         # (aweish)\n",
    "    aweinsh = 4*(b03 - b11) - (0.25*b08 + 2.75*b11)                              # (aweinsh)\n",
    "    dbsi = ((b11 - b03) / (b11 + b03 + 1e-6)) - ndvi                             # (dbsi)\n",
    "\n",
    "    ws = ((mndwi > MNDWI_thr) | (ndwi > NDWI_thr) | (aweinsh > 0.1879) |\n",
    "          (aweish > 0.1112) | (ndvi < -0.2) | (ndwi_leaves > 1.0))\n",
    "\n",
    "    if FILTER_UABS:\n",
    "        ws = ws & ~((aweinsh <= -0.03) | (dbsi > 0))\n",
    "\n",
    "    return ws\n",
    "\n",
    "def fai(b04,b07,b8a):\n",
    "    # FAI = B07 - (B04 + (B8A - B04) * (783-665)/(865-665))\n",
    "    return b07 - (b04 + (b8a - b04) * ((783 - 665) / (865 - 665)))\n",
    "\n",
    "def ndci(b04,b05):\n",
    "    return (b05 - b04) / (b05 + b04 + 1e-6)\n",
    "\n",
    "def chlorophyll_from_ndci(ndci_arr):\n",
    "    # Polinomio del script\n",
    "    return 826.57*ndci_arr**3 - 176.43*ndci_arr**2 + 19.0*ndci_arr + 4.071\n",
    "\n",
    "def ndvi(b04,b08):\n",
    "    return (b08 - b04) / (b08 + b04 + 1e-6)\n",
    "\n",
    "def ndwi(b03,b08):\n",
    "    return (b03 - b08) / (b03 + b08 + 1e-6)"
   ]
  },
  {
   "cell_type": "markdown",
   "id": "7f147b73",
   "metadata": {},
   "source": [
    "### Procesamiento de `.tiffs` en base a su fecha"
   ]
  },
  {
   "cell_type": "code",
   "execution_count": 5,
   "id": "d012beee",
   "metadata": {},
   "outputs": [],
   "source": [
    "def process_one(base_path: Path):\n",
    "    \"\"\"Devuelve diccionario de métricas agregadas y mapas intermedios.\"\"\"\n",
    "    (b02,b03,b04,b05,b07,b08,b8a,b11,b12), scl, dm = load_stack(base_path)\n",
    "\n",
    "    valid = (dm > 0) & (~np.isin(scl, list(SCL_BAD)))\n",
    "\n",
    "    # máscara de agua del script\n",
    "    water = water_mask(b02,b03,b04,b08,b11,b12) & valid\n",
    "\n",
    "    # índices\n",
    "    FAIv  = fai(b04,b07,b8a)\n",
    "    NDCIv = ndci(b04,b05)\n",
    "    chl   = chlorophyll_from_ndci(NDCIv)\n",
    "\n",
    "    NDVIv = ndvi(b04,b08)\n",
    "    NDWIv = ndwi(b03,b08)\n",
    "\n",
    "    def agg(masked):\n",
    "        vals = masked[water]\n",
    "        return dict(mean=float(np.nanmean(vals)) if vals.size else np.nan,\n",
    "                    p90 =float(np.nanpercentile(vals,90)) if vals.size else np.nan,\n",
    "                    p99 =float(np.nanpercentile(vals,99)) if vals.size else np.nan)\n",
    "\n",
    "    metrics = {\n",
    "        \"chl_mean\":  agg(chl)[\"mean\"],\n",
    "        \"chl_p90\":   agg(chl)[\"p90\"],\n",
    "        \"FAI_mean\":  agg(FAIv)[\"mean\"],\n",
    "        \"NDCI_mean\": agg(NDCIv)[\"mean\"],\n",
    "        \"NDVI_mean\": agg(NDVIv)[\"mean\"],\n",
    "        \"NDWI_mean\": agg(NDWIv)[\"mean\"],\n",
    "        \"water_px\":  int(water.sum())\n",
    "    }\n",
    "    maps = {\"water\": water, \"chl\": chl, \"FAI\": FAIv, \"NDCI\": NDCIv, \"NDVI\": NDVIv, \"NDWI\": NDWIv}\n",
    "    return metrics, maps\n"
   ]
  },
  {
   "cell_type": "markdown",
   "id": "1b9d9c71",
   "metadata": {},
   "source": [
    "### Recorrer ambos lagos y armar series (convirtiendo a arreglos de numpy)"
   ]
  },
  {
   "cell_type": "code",
   "execution_count": 6,
   "id": "1ec9d3d8",
   "metadata": {},
   "outputs": [
    {
     "name": "stdout",
     "output_type": "stream",
     "text": [
      "atitlan: 29 fechas encontradas\n",
      "amatitlan: 29 fechas encontradas\n"
     ]
    },
    {
     "data": {
      "application/vnd.microsoft.datawrangler.viewer.v0+json": {
       "columns": [
        {
         "name": "index",
         "rawType": "int64",
         "type": "integer"
        },
        {
         "name": "lake",
         "rawType": "object",
         "type": "string"
        },
        {
         "name": "date",
         "rawType": "datetime64[ns]",
         "type": "datetime"
        },
        {
         "name": "chl_mean",
         "rawType": "float64",
         "type": "float"
        },
        {
         "name": "chl_p90",
         "rawType": "float64",
         "type": "float"
        },
        {
         "name": "FAI_mean",
         "rawType": "float64",
         "type": "float"
        },
        {
         "name": "NDCI_mean",
         "rawType": "float64",
         "type": "float"
        },
        {
         "name": "NDVI_mean",
         "rawType": "float64",
         "type": "float"
        },
        {
         "name": "NDWI_mean",
         "rawType": "float64",
         "type": "float"
        },
        {
         "name": "water_px",
         "rawType": "int64",
         "type": "integer"
        }
       ],
       "ref": "4797fcfc-5153-4ec5-b7f8-2a7fc56b3f50",
       "rows": [
        [
         "0",
         "amatitlan",
         "2025-02-07 00:00:00",
         "23.21401596069336",
         "45.584991455078125",
         "0.0014038120862096548",
         "0.31039750576019287",
         "-0.2814796566963196",
         "0.5746538639068604",
         "133219"
        ],
        [
         "1",
         "amatitlan",
         "2025-02-10 00:00:00",
         null,
         null,
         null,
         null,
         null,
         null,
         "0"
        ],
        [
         "2",
         "amatitlan",
         "2025-02-25 00:00:00",
         null,
         null,
         null,
         null,
         null,
         null,
         "0"
        ],
        [
         "3",
         "amatitlan",
         "2025-02-27 00:00:00",
         "31.240352630615234",
         "60.351524353027344",
         "0.020708993077278137",
         "0.3519729971885681",
         "0.07352034002542496",
         "0.24528612196445465",
         "109021"
        ],
        [
         "4",
         "amatitlan",
         "2025-03-02 00:00:00",
         null,
         null,
         null,
         null,
         null,
         null,
         "0"
        ]
       ],
       "shape": {
        "columns": 9,
        "rows": 5
       }
      },
      "text/html": [
       "<div>\n",
       "<style scoped>\n",
       "    .dataframe tbody tr th:only-of-type {\n",
       "        vertical-align: middle;\n",
       "    }\n",
       "\n",
       "    .dataframe tbody tr th {\n",
       "        vertical-align: top;\n",
       "    }\n",
       "\n",
       "    .dataframe thead th {\n",
       "        text-align: right;\n",
       "    }\n",
       "</style>\n",
       "<table border=\"1\" class=\"dataframe\">\n",
       "  <thead>\n",
       "    <tr style=\"text-align: right;\">\n",
       "      <th></th>\n",
       "      <th>lake</th>\n",
       "      <th>date</th>\n",
       "      <th>chl_mean</th>\n",
       "      <th>chl_p90</th>\n",
       "      <th>FAI_mean</th>\n",
       "      <th>NDCI_mean</th>\n",
       "      <th>NDVI_mean</th>\n",
       "      <th>NDWI_mean</th>\n",
       "      <th>water_px</th>\n",
       "    </tr>\n",
       "  </thead>\n",
       "  <tbody>\n",
       "    <tr>\n",
       "      <th>0</th>\n",
       "      <td>amatitlan</td>\n",
       "      <td>2025-02-07</td>\n",
       "      <td>23.214016</td>\n",
       "      <td>45.584991</td>\n",
       "      <td>0.001404</td>\n",
       "      <td>0.310398</td>\n",
       "      <td>-0.28148</td>\n",
       "      <td>0.574654</td>\n",
       "      <td>133219</td>\n",
       "    </tr>\n",
       "    <tr>\n",
       "      <th>1</th>\n",
       "      <td>amatitlan</td>\n",
       "      <td>2025-02-10</td>\n",
       "      <td>NaN</td>\n",
       "      <td>NaN</td>\n",
       "      <td>NaN</td>\n",
       "      <td>NaN</td>\n",
       "      <td>NaN</td>\n",
       "      <td>NaN</td>\n",
       "      <td>0</td>\n",
       "    </tr>\n",
       "    <tr>\n",
       "      <th>2</th>\n",
       "      <td>amatitlan</td>\n",
       "      <td>2025-02-25</td>\n",
       "      <td>NaN</td>\n",
       "      <td>NaN</td>\n",
       "      <td>NaN</td>\n",
       "      <td>NaN</td>\n",
       "      <td>NaN</td>\n",
       "      <td>NaN</td>\n",
       "      <td>0</td>\n",
       "    </tr>\n",
       "    <tr>\n",
       "      <th>3</th>\n",
       "      <td>amatitlan</td>\n",
       "      <td>2025-02-27</td>\n",
       "      <td>31.240353</td>\n",
       "      <td>60.351524</td>\n",
       "      <td>0.020709</td>\n",
       "      <td>0.351973</td>\n",
       "      <td>0.07352</td>\n",
       "      <td>0.245286</td>\n",
       "      <td>109021</td>\n",
       "    </tr>\n",
       "    <tr>\n",
       "      <th>4</th>\n",
       "      <td>amatitlan</td>\n",
       "      <td>2025-03-02</td>\n",
       "      <td>NaN</td>\n",
       "      <td>NaN</td>\n",
       "      <td>NaN</td>\n",
       "      <td>NaN</td>\n",
       "      <td>NaN</td>\n",
       "      <td>NaN</td>\n",
       "      <td>0</td>\n",
       "    </tr>\n",
       "  </tbody>\n",
       "</table>\n",
       "</div>"
      ],
      "text/plain": [
       "        lake       date   chl_mean    chl_p90  FAI_mean  NDCI_mean  NDVI_mean  \\\n",
       "0  amatitlan 2025-02-07  23.214016  45.584991  0.001404   0.310398   -0.28148   \n",
       "1  amatitlan 2025-02-10        NaN        NaN       NaN        NaN        NaN   \n",
       "2  amatitlan 2025-02-25        NaN        NaN       NaN        NaN        NaN   \n",
       "3  amatitlan 2025-02-27  31.240353  60.351524  0.020709   0.351973    0.07352   \n",
       "4  amatitlan 2025-03-02        NaN        NaN       NaN        NaN        NaN   \n",
       "\n",
       "   NDWI_mean  water_px  \n",
       "0   0.574654    133219  \n",
       "1        NaN         0  \n",
       "2        NaN         0  \n",
       "3   0.245286    109021  \n",
       "4        NaN         0  "
      ]
     },
     "execution_count": 6,
     "metadata": {},
     "output_type": "execute_result"
    }
   ],
   "source": [
    "rows = []\n",
    "maps_cache = {}\n",
    "\n",
    "for lake in LAKES:\n",
    "    lake_folder = BASE / lake\n",
    "    bases = list_date_bases(lake_folder)\n",
    "    print(f\"{lake}: {len(bases)} fechas encontradas\")\n",
    "    for date, base in bases:\n",
    "        try:\n",
    "            metrics, maps = process_one(base)\n",
    "            rows.append({\"lake\": lake, \"date\": pd.to_datetime(date), **metrics})\n",
    "            maps_cache.setdefault(lake, {})[date] = maps\n",
    "        except Exception as e:\n",
    "            print(f\"[warn] {lake} {date}: {e}\")\n",
    "\n",
    "df = pd.DataFrame(rows).sort_values([\"lake\",\"date\"]).reset_index(drop=True)\n",
    "df.head()\n"
   ]
  },
  {
   "cell_type": "markdown",
   "id": "35a83739",
   "metadata": {},
   "source": [
    "### Llenado de los datos faltantes imputándolos con mediana"
   ]
  },
  {
   "cell_type": "code",
   "execution_count": 7,
   "id": "09c2dd3d",
   "metadata": {},
   "outputs": [],
   "source": [
    "df[\"date\"] = pd.to_datetime(df[\"date\"])\n",
    "\n",
    "START = \"2025-02-01\"\n",
    "END   = \"2025-08-01\"\n",
    "TARGET_CAL = pd.date_range(START, END, freq=\"D\")\n",
    "\n",
    "METRICS = [\"chl_mean\",\"FAI_mean\",\"NDCI_mean\",\"NDVI_mean\",\"NDWI_mean\"]"
   ]
  },
  {
   "cell_type": "code",
   "execution_count": 8,
   "id": "3242f122",
   "metadata": {},
   "outputs": [
    {
     "name": "stdout",
     "output_type": "stream",
     "text": [
      "           chl_mean  FAI_mean  NDCI_mean  NDVI_mean  NDWI_mean\n",
      "lake                                                          \n",
      "amatitlan         0         0          0          0          0\n",
      "atitlan           0         0          0          0          0\n"
     ]
    }
   ],
   "source": [
    "def complete_and_impute(df, metrics=METRICS, how=\"median\"):\n",
    "    \"\"\"Rellena días faltantes por lago con la mediana o el promedio del lago (por métrica).\"\"\"\n",
    "    filled = []\n",
    "    for lake, g in df.groupby(\"lake\", dropna=False):\n",
    "        g = g.set_index(\"date\").sort_index()\n",
    "\n",
    "        re = g.reindex(TARGET_CAL)\n",
    "\n",
    "        re[\"is_imputed_row\"] = ~re.index.isin(g.index)\n",
    "\n",
    "        re[\"lake\"] = lake\n",
    "        re.index.name = \"date\"\n",
    "\n",
    "        if how == \"median\":\n",
    "            fill_values = re[metrics].median(skipna=True)\n",
    "        elif how == \"mean\":\n",
    "            fill_values = re[metrics].mean(skipna=True)\n",
    "        else:\n",
    "            raise ValueError(\"how debe ser 'median' o 'mean'\")\n",
    "\n",
    "        for col in metrics:\n",
    "            re[col] = re[col].fillna(fill_values[col])\n",
    "\n",
    "        filled.append(re.reset_index())\n",
    "\n",
    "    out = pd.concat(filled, ignore_index=True).sort_values([\"lake\",\"date\"])\n",
    "    return out\n",
    "\n",
    "df_full = complete_and_impute(df, metrics=METRICS, how=\"median\")\n",
    "\n",
    "print(df_full.groupby(\"lake\")[METRICS].apply(lambda x: x.isna().sum()))"
   ]
  }
 ],
 "metadata": {
  "kernelspec": {
   "display_name": "venv",
   "language": "python",
   "name": "python3"
  },
  "language_info": {
   "codemirror_mode": {
    "name": "ipython",
    "version": 3
   },
   "file_extension": ".py",
   "mimetype": "text/x-python",
   "name": "python",
   "nbconvert_exporter": "python",
   "pygments_lexer": "ipython3",
   "version": "3.12.1"
  }
 },
 "nbformat": 4,
 "nbformat_minor": 5
}
