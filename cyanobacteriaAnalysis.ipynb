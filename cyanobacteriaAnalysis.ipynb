{
 "cells": [
  {
   "cell_type": "code",
   "execution_count": 23,
   "id": "5a7ef7fd",
   "metadata": {},
   "outputs": [],
   "source": [
    "import re, math, json\n",
    "from pathlib import Path\n",
    "import numpy as np\n",
    "import pandas as pd\n",
    "import rasterio\n",
    "import matplotlib.pyplot as plt\n",
    "from branca.colormap import LinearColormap\n",
    "from IPython.display import HTML, display, IFrame\n",
    "import base64\n",
    "\n",
    "from ipyleaflet import Map, ImageOverlay, basemaps, WidgetControl\n",
    "import ipywidgets as W\n",
    "from ipywidgets import GridBox, Layout"
   ]
  },
  {
   "cell_type": "markdown",
   "id": "59ff905a",
   "metadata": {},
   "source": [
    "### Configuración"
   ]
  },
  {
   "cell_type": "code",
   "execution_count": 24,
   "id": "8693df05",
   "metadata": {},
   "outputs": [],
   "source": [
    "BASE = Path(\"descargas_sentinelhub\")  # carpeta de los TIF\n",
    "LAKES = [\"atitlan\", \"amatitlan\"]      # subcarpetas\n",
    "BANDS_SUFFIX = \".bands.tiff\"    # 9 bandas: B02,B03,B04,B05,B07,B08,B8A,B11,B12 (float32)\n",
    "MASK_SUFFIX  = \".mask.tiff\"           # 2 bandas: SCL, dataMask (uint8)\n",
    "SCL_BAD = {3,8,9,10,11}\n",
    "\n",
    "# Umbrales del script CyanoLakes\n",
    "MNDWI_thr = 0.42\n",
    "NDWI_thr  = 0.4\n",
    "FILTER_UABS = True"
   ]
  },
  {
   "cell_type": "markdown",
   "id": "fbe28325",
   "metadata": {},
   "source": [
    "### Funciones de utilidad"
   ]
  },
  {
   "cell_type": "code",
   "execution_count": 25,
   "id": "ef6ea1a9",
   "metadata": {},
   "outputs": [],
   "source": [
    "def list_date_bases(lake_folder: Path):\n",
    "    \"\"\"\n",
    "    Devuelve una lista de paths 'base' por fecha para un lago:\n",
    "    BASE/lake/lake__YYYY-MM-DD  (sin sufijo)\n",
    "    \"\"\"\n",
    "    bases = []\n",
    "    for tif in lake_folder.glob(f\"*__20??-??-??{BANDS_SUFFIX}\"):\n",
    "        date = re.search(r\"__(\\d{4}-\\d{2}-\\d{2})\\.bands\\.tiff$\", tif.name).group(1)\n",
    "        base = tif.with_suffix(\"\").with_suffix(\"\")\n",
    "        bases.append((date, base))\n",
    "    return sorted(bases, key=lambda x: x[0])\n",
    "\n",
    "def load_stack(base_path: Path):\n",
    "    \"\"\"Lee el stack de 9 bandas (float32 reflectancia) y la máscara (SCL, dataMask).\"\"\"\n",
    "    bands_path = base_path.with_suffix(BANDS_SUFFIX)\n",
    "    mask_path  = base_path.with_suffix(MASK_SUFFIX)\n",
    "\n",
    "    with rasterio.open(bands_path) as src:\n",
    "        stack = src.read().astype(\"float32\")\n",
    "        b02,b03,b04,b05,b07,b08,b8a,b11,b12 = stack\n",
    "\n",
    "    with rasterio.open(mask_path) as msrc:\n",
    "        m = msrc.read()\n",
    "        scl, dm = m[0].astype(\"int16\"), m[1].astype(\"int16\")\n",
    "\n",
    "    return (b02,b03,b04,b05,b07,b08,b8a,b11,b12), scl, dm"
   ]
  },
  {
   "cell_type": "markdown",
   "id": "43f6e8f3",
   "metadata": {},
   "source": [
    "### Índices calculados del script de Cyanobacteria"
   ]
  },
  {
   "cell_type": "code",
   "execution_count": 26,
   "id": "8e7b4006",
   "metadata": {},
   "outputs": [],
   "source": [
    "def water_mask(b02,b03,b04,b08,b11,b12):\n",
    "    ndvi  = (b08 - b04) / (b08 + b04 + 1e-6)                                     # (ndvi)\n",
    "    mndwi = (b03 - b11) / (b03 + b11 + 1e-6)                                     # (mndwi)\n",
    "    ndwi  = (b03 - b08) / (b03 + b08 + 1e-6)                                     # (ndwi)\n",
    "    ndwi_leaves = (b08 - b11) / (b08 + b11 + 1e-6)                               # (ndwi_leaves)\n",
    "    aweish  = b02 + 2.5*b03 - 1.5*(b08 + b11) - 0.25*b12                         # (aweish)\n",
    "    aweinsh = 4*(b03 - b11) - (0.25*b08 + 2.75*b11)                              # (aweinsh)\n",
    "    dbsi = ((b11 - b03) / (b11 + b03 + 1e-6)) - ndvi                             # (dbsi)\n",
    "\n",
    "    ws = ((mndwi > MNDWI_thr) | (ndwi > NDWI_thr) | (aweinsh > 0.1879) |\n",
    "          (aweish > 0.1112) | (ndvi < -0.2) | (ndwi_leaves > 1.0))\n",
    "\n",
    "    if FILTER_UABS:\n",
    "        ws = ws & ~((aweinsh <= -0.03) | (dbsi > 0))\n",
    "\n",
    "    return ws\n",
    "\n",
    "def fai(b04,b07,b8a):\n",
    "    # FAI = B07 - (B04 + (B8A - B04) * (783-665)/(865-665))\n",
    "    return b07 - (b04 + (b8a - b04) * ((783 - 665) / (865 - 665)))\n",
    "\n",
    "def ndci(b04,b05):\n",
    "    return (b05 - b04) / (b05 + b04 + 1e-6)\n",
    "\n",
    "def chlorophyll_from_ndci(ndci_arr):\n",
    "    # Polinomio del script\n",
    "    return 826.57*ndci_arr**3 - 176.43*ndci_arr**2 + 19.0*ndci_arr + 4.071\n",
    "\n",
    "def ndvi(b04,b08):\n",
    "    return (b08 - b04) / (b08 + b04 + 1e-6)\n",
    "\n",
    "def ndwi(b03,b08):\n",
    "    return (b03 - b08) / (b03 + b08 + 1e-6)"
   ]
  },
  {
   "cell_type": "markdown",
   "id": "7f147b73",
   "metadata": {},
   "source": [
    "### Procesamiento de `.tiffs` en base a su fecha"
   ]
  },
  {
   "cell_type": "code",
   "execution_count": 27,
   "id": "d012beee",
   "metadata": {},
   "outputs": [],
   "source": [
    "def process_one(base_path: Path):\n",
    "    \"\"\"Devuelve diccionario de métricas agregadas y mapas intermedios.\"\"\"\n",
    "    (b02,b03,b04,b05,b07,b08,b8a,b11,b12), scl, dm = load_stack(base_path)\n",
    "\n",
    "    valid = (dm > 0) & (~np.isin(scl, list(SCL_BAD)))\n",
    "\n",
    "    water = water_mask(b02,b03,b04,b08,b11,b12) & valid\n",
    "\n",
    "    # índices\n",
    "    FAIv  = fai(b04,b07,b8a)\n",
    "    NDCIv = ndci(b04,b05)\n",
    "    chl   = chlorophyll_from_ndci(NDCIv)\n",
    "\n",
    "    NDVIv = ndvi(b04,b08)\n",
    "    NDWIv = ndwi(b03,b08)\n",
    "\n",
    "    def agg(masked):\n",
    "        vals = masked[water]\n",
    "        return dict(mean=float(np.nanmean(vals)) if vals.size else np.nan,\n",
    "                    p90 =float(np.nanpercentile(vals,90)) if vals.size else np.nan,\n",
    "                    p99 =float(np.nanpercentile(vals,99)) if vals.size else np.nan)\n",
    "\n",
    "    metrics = {\n",
    "        \"chl_mean\":  agg(chl)[\"mean\"],\n",
    "        \"chl_p90\":   agg(chl)[\"p90\"],\n",
    "        \"FAI_mean\":  agg(FAIv)[\"mean\"],\n",
    "        \"NDCI_mean\": agg(NDCIv)[\"mean\"],\n",
    "        \"NDVI_mean\": agg(NDVIv)[\"mean\"],\n",
    "        \"NDWI_mean\": agg(NDWIv)[\"mean\"],\n",
    "        \"water_px\":  int(water.sum())\n",
    "    }\n",
    "    maps = {\"water\": water, \"chl\": chl, \"FAI\": FAIv, \"NDCI\": NDCIv, \"NDVI\": NDVIv, \"NDWI\": NDWIv}\n",
    "    return metrics, maps\n"
   ]
  },
  {
   "cell_type": "markdown",
   "id": "1b9d9c71",
   "metadata": {},
   "source": [
    "### Recorrer ambos lagos y armar series (convirtiendo a arreglos de numpy)"
   ]
  },
  {
   "cell_type": "code",
   "execution_count": 28,
   "id": "1ec9d3d8",
   "metadata": {},
   "outputs": [
    {
     "name": "stdout",
     "output_type": "stream",
     "text": [
      "atitlan: 29 fechas encontradas\n",
      "amatitlan: 29 fechas encontradas\n"
     ]
    },
    {
     "data": {
      "application/vnd.microsoft.datawrangler.viewer.v0+json": {
       "columns": [
        {
         "name": "index",
         "rawType": "int64",
         "type": "integer"
        },
        {
         "name": "lake",
         "rawType": "object",
         "type": "string"
        },
        {
         "name": "date",
         "rawType": "datetime64[ns]",
         "type": "datetime"
        },
        {
         "name": "chl_mean",
         "rawType": "float64",
         "type": "float"
        },
        {
         "name": "chl_p90",
         "rawType": "float64",
         "type": "float"
        },
        {
         "name": "FAI_mean",
         "rawType": "float64",
         "type": "float"
        },
        {
         "name": "NDCI_mean",
         "rawType": "float64",
         "type": "float"
        },
        {
         "name": "NDVI_mean",
         "rawType": "float64",
         "type": "float"
        },
        {
         "name": "NDWI_mean",
         "rawType": "float64",
         "type": "float"
        },
        {
         "name": "water_px",
         "rawType": "int64",
         "type": "integer"
        }
       ],
       "ref": "5d201cdc-61cf-4b1e-a503-983eeedbeaeb",
       "rows": [
        [
         "0",
         "amatitlan",
         "2025-02-07 00:00:00",
         "23.21401596069336",
         "45.584991455078125",
         "0.0014038120862096548",
         "0.31039750576019287",
         "-0.2814796566963196",
         "0.5746538639068604",
         "133219"
        ],
        [
         "1",
         "amatitlan",
         "2025-02-10 00:00:00",
         null,
         null,
         null,
         null,
         null,
         null,
         "0"
        ],
        [
         "2",
         "amatitlan",
         "2025-02-25 00:00:00",
         null,
         null,
         null,
         null,
         null,
         null,
         "0"
        ],
        [
         "3",
         "amatitlan",
         "2025-02-27 00:00:00",
         "31.240352630615234",
         "60.351524353027344",
         "0.020708993077278137",
         "0.3519729971885681",
         "0.07352034002542496",
         "0.24528612196445465",
         "109021"
        ],
        [
         "4",
         "amatitlan",
         "2025-03-02 00:00:00",
         null,
         null,
         null,
         null,
         null,
         null,
         "0"
        ]
       ],
       "shape": {
        "columns": 9,
        "rows": 5
       }
      },
      "text/html": [
       "<div>\n",
       "<style scoped>\n",
       "    .dataframe tbody tr th:only-of-type {\n",
       "        vertical-align: middle;\n",
       "    }\n",
       "\n",
       "    .dataframe tbody tr th {\n",
       "        vertical-align: top;\n",
       "    }\n",
       "\n",
       "    .dataframe thead th {\n",
       "        text-align: right;\n",
       "    }\n",
       "</style>\n",
       "<table border=\"1\" class=\"dataframe\">\n",
       "  <thead>\n",
       "    <tr style=\"text-align: right;\">\n",
       "      <th></th>\n",
       "      <th>lake</th>\n",
       "      <th>date</th>\n",
       "      <th>chl_mean</th>\n",
       "      <th>chl_p90</th>\n",
       "      <th>FAI_mean</th>\n",
       "      <th>NDCI_mean</th>\n",
       "      <th>NDVI_mean</th>\n",
       "      <th>NDWI_mean</th>\n",
       "      <th>water_px</th>\n",
       "    </tr>\n",
       "  </thead>\n",
       "  <tbody>\n",
       "    <tr>\n",
       "      <th>0</th>\n",
       "      <td>amatitlan</td>\n",
       "      <td>2025-02-07</td>\n",
       "      <td>23.214016</td>\n",
       "      <td>45.584991</td>\n",
       "      <td>0.001404</td>\n",
       "      <td>0.310398</td>\n",
       "      <td>-0.28148</td>\n",
       "      <td>0.574654</td>\n",
       "      <td>133219</td>\n",
       "    </tr>\n",
       "    <tr>\n",
       "      <th>1</th>\n",
       "      <td>amatitlan</td>\n",
       "      <td>2025-02-10</td>\n",
       "      <td>NaN</td>\n",
       "      <td>NaN</td>\n",
       "      <td>NaN</td>\n",
       "      <td>NaN</td>\n",
       "      <td>NaN</td>\n",
       "      <td>NaN</td>\n",
       "      <td>0</td>\n",
       "    </tr>\n",
       "    <tr>\n",
       "      <th>2</th>\n",
       "      <td>amatitlan</td>\n",
       "      <td>2025-02-25</td>\n",
       "      <td>NaN</td>\n",
       "      <td>NaN</td>\n",
       "      <td>NaN</td>\n",
       "      <td>NaN</td>\n",
       "      <td>NaN</td>\n",
       "      <td>NaN</td>\n",
       "      <td>0</td>\n",
       "    </tr>\n",
       "    <tr>\n",
       "      <th>3</th>\n",
       "      <td>amatitlan</td>\n",
       "      <td>2025-02-27</td>\n",
       "      <td>31.240353</td>\n",
       "      <td>60.351524</td>\n",
       "      <td>0.020709</td>\n",
       "      <td>0.351973</td>\n",
       "      <td>0.07352</td>\n",
       "      <td>0.245286</td>\n",
       "      <td>109021</td>\n",
       "    </tr>\n",
       "    <tr>\n",
       "      <th>4</th>\n",
       "      <td>amatitlan</td>\n",
       "      <td>2025-03-02</td>\n",
       "      <td>NaN</td>\n",
       "      <td>NaN</td>\n",
       "      <td>NaN</td>\n",
       "      <td>NaN</td>\n",
       "      <td>NaN</td>\n",
       "      <td>NaN</td>\n",
       "      <td>0</td>\n",
       "    </tr>\n",
       "  </tbody>\n",
       "</table>\n",
       "</div>"
      ],
      "text/plain": [
       "        lake       date   chl_mean    chl_p90  FAI_mean  NDCI_mean  NDVI_mean  \\\n",
       "0  amatitlan 2025-02-07  23.214016  45.584991  0.001404   0.310398   -0.28148   \n",
       "1  amatitlan 2025-02-10        NaN        NaN       NaN        NaN        NaN   \n",
       "2  amatitlan 2025-02-25        NaN        NaN       NaN        NaN        NaN   \n",
       "3  amatitlan 2025-02-27  31.240353  60.351524  0.020709   0.351973    0.07352   \n",
       "4  amatitlan 2025-03-02        NaN        NaN       NaN        NaN        NaN   \n",
       "\n",
       "   NDWI_mean  water_px  \n",
       "0   0.574654    133219  \n",
       "1        NaN         0  \n",
       "2        NaN         0  \n",
       "3   0.245286    109021  \n",
       "4        NaN         0  "
      ]
     },
     "execution_count": 28,
     "metadata": {},
     "output_type": "execute_result"
    }
   ],
   "source": [
    "rows = []\n",
    "maps_cache = {}\n",
    "\n",
    "for lake in LAKES:\n",
    "    lake_folder = BASE / lake\n",
    "    bases = list_date_bases(lake_folder)\n",
    "    print(f\"{lake}: {len(bases)} fechas encontradas\")\n",
    "    for date, base in bases:\n",
    "        try:\n",
    "            metrics, maps = process_one(base)\n",
    "            rows.append({\"lake\": lake, \"date\": pd.to_datetime(date), **metrics})\n",
    "            maps_cache.setdefault(lake, {})[date] = maps\n",
    "        except Exception as e:\n",
    "            print(f\"[warn] {lake} {date}: {e}\")\n",
    "\n",
    "df = pd.DataFrame(rows).sort_values([\"lake\",\"date\"]).reset_index(drop=True)\n",
    "df.head()\n"
   ]
  },
  {
   "cell_type": "markdown",
   "id": "35a83739",
   "metadata": {},
   "source": [
    "### Llenado de los datos faltantes imputándolos con mediana"
   ]
  },
  {
   "cell_type": "code",
   "execution_count": 29,
   "id": "09c2dd3d",
   "metadata": {},
   "outputs": [],
   "source": [
    "df[\"date\"] = pd.to_datetime(df[\"date\"])\n",
    "\n",
    "START = \"2025-02-01\"\n",
    "END   = \"2025-08-01\"\n",
    "TARGET_CAL = pd.date_range(START, END, freq=\"D\")\n",
    "\n",
    "METRICS = [\"chl_mean\",\"FAI_mean\",\"NDCI_mean\",\"NDVI_mean\",\"NDWI_mean\"]"
   ]
  },
  {
   "cell_type": "code",
   "execution_count": 30,
   "id": "3242f122",
   "metadata": {},
   "outputs": [
    {
     "name": "stdout",
     "output_type": "stream",
     "text": [
      "           chl_mean  FAI_mean  NDCI_mean  NDVI_mean  NDWI_mean\n",
      "lake                                                          \n",
      "amatitlan         0         0          0          0          0\n",
      "atitlan           0         0          0          0          0\n"
     ]
    }
   ],
   "source": [
    "def complete_and_impute(df, metrics=METRICS, how=\"median\"):\n",
    "    \"\"\"Rellena días faltantes por lago con la mediana o el promedio del lago (por métrica).\"\"\"\n",
    "    filled = []\n",
    "    for lake, g in df.groupby(\"lake\", dropna=False):\n",
    "        g = g.set_index(\"date\").sort_index()\n",
    "\n",
    "        re = g.reindex(TARGET_CAL)\n",
    "\n",
    "        re[\"is_imputed_row\"] = ~re.index.isin(g.index)\n",
    "\n",
    "        re[\"lake\"] = lake\n",
    "        re.index.name = \"date\"\n",
    "\n",
    "        if how == \"median\":\n",
    "            fill_values = re[metrics].median(skipna=True)\n",
    "        elif how == \"mean\":\n",
    "            fill_values = re[metrics].mean(skipna=True)\n",
    "        else:\n",
    "            raise ValueError(\"how debe ser 'median' o 'mean'\")\n",
    "\n",
    "        for col in metrics:\n",
    "            re[col] = re[col].fillna(fill_values[col])\n",
    "\n",
    "        filled.append(re.reset_index())\n",
    "\n",
    "    out = pd.concat(filled, ignore_index=True).sort_values([\"lake\",\"date\"])\n",
    "    return out\n",
    "\n",
    "df_full = complete_and_impute(df, metrics=METRICS, how=\"median\")\n",
    "\n",
    "print(df_full.groupby(\"lake\")[METRICS].apply(lambda x: x.isna().sum()))"
   ]
  },
  {
   "cell_type": "code",
   "execution_count": 31,
   "id": "bfaf2dfd",
   "metadata": {},
   "outputs": [],
   "source": [
    "def recompute_qc(df_full, maps_cache):\n",
    "    out = df_full.copy()\n",
    "    out[\"chl_mean_clip0\"] = out[\"chl_mean\"]\n",
    "    out[\"coverage\"] = np.nan\n",
    "\n",
    "    obs_mask = ~out[\"is_imputed_row\"]\n",
    "    for i, row in out[obs_mask].iterrows():\n",
    "        lake = row[\"lake\"]\n",
    "        date_str = pd.to_datetime(row[\"date\"]).strftime(\"%Y-%m-%d\")\n",
    "        m = maps_cache.get(lake, {}).get(date_str)\n",
    "        if m is None:\n",
    "            continue\n",
    "        water = m[\"water\"].astype(bool)\n",
    "        chl = np.maximum(m[\"chl\"], 0.0)\n",
    "        vals = chl[water]\n",
    "        if vals.size:\n",
    "            out.at[i, \"chl_mean_clip0\"] = float(np.nanmean(vals))\n",
    "            out.at[i, \"coverage\"] = float(np.sum(water))\n",
    "\n",
    "    out[\"coverage_pct\"] = out.groupby(\"lake\")[\"coverage\"].transform(lambda s: s / s.max())\n",
    "    return out\n",
    "\n",
    "df_qc = recompute_qc(df_full, maps_cache)"
   ]
  },
  {
   "cell_type": "markdown",
   "id": "76c8b2e8",
   "metadata": {},
   "source": [
    "### Serie temporal (promedio por lago y fecha)"
   ]
  },
  {
   "cell_type": "code",
   "execution_count": 32,
   "id": "eb67dada",
   "metadata": {},
   "outputs": [
    {
     "data": {
      "image/png": "[encoded data removed]",
      "text/plain": [
       "<Figure size 1100x500 with 1 Axes>"
      ]
     },
     "metadata": {},
     "output_type": "display_data"
    }
   ],
   "source": [
    "METRICS = [\"chl_mean\",\"FAI_mean\",\"NDCI_mean\",\"NDVI_mean\",\"NDWI_mean\"]\n",
    "\n",
    "# Gráfico: clorofila-a promedio por lago\n",
    "plt.figure(figsize=(11,5))\n",
    "for lake, g in df_qc.groupby(\"lake\"):\n",
    "    plt.plot(g[\"date\"], g[\"chl_mean_clip0\"], label=lake, linewidth=2)\n",
    "    # resalta puntos imputados\n",
    "    gi = g[g[\"is_imputed_row\"]]\n",
    "    plt.scatter(gi[\"date\"], gi[\"chl_mean_clip0\"], facecolors=\"none\", edgecolors=\"black\", s=40, label=f\"{lake} (imputado)\")\n",
    "plt.title(\"Clorofila-a promedio (serie diaria, con imputación)\")\n",
    "plt.xlabel(\"Fecha\"); plt.ylabel(\"chl_mean (proxy)\"); plt.grid(True, alpha=0.3); plt.legend()\n",
    "plt.show()"
   ]
  },
  {
   "cell_type": "markdown",
   "id": "6c2a77c2",
   "metadata": {},
   "source": [
    "### Picos de floración y fechas críticas"
   ]
  },
  {
   "cell_type": "code",
   "execution_count": 33,
   "id": "3559f4ab",
   "metadata": {},
   "outputs": [
    {
     "name": "stderr",
     "output_type": "stream",
     "text": [
      "C:\\Users\\n8nug\\AppData\\Local\\Temp\\ipykernel_7236\\3808784939.py:22: FutureWarning: DataFrameGroupBy.apply operated on the grouping columns. This behavior is deprecated, and in a future version of pandas the grouping columns will be excluded from the operation. Either pass `include_groups=False` to exclude the groupings or explicitly select the grouping columns after groupby to silence this warning.\n",
      "  .apply(detect_peaks, value_col=\"chl_mean\", window=11, k=3.0, ignore_imputed=True))\n"
     ]
    },
    {
     "name": "stdout",
     "output_type": "stream",
     "text": [
      "amatitlan: 9 picos -> [datetime.date(2025, 2, 7), datetime.date(2025, 2, 27), datetime.date(2025, 3, 4), datetime.date(2025, 3, 9), datetime.date(2025, 3, 14), datetime.date(2025, 3, 19), datetime.date(2025, 3, 24), datetime.date(2025, 4, 3), datetime.date(2025, 5, 13)]\n",
      "atitlan: 14 picos -> [datetime.date(2025, 2, 7), datetime.date(2025, 2, 10), datetime.date(2025, 2, 25), datetime.date(2025, 2, 27), datetime.date(2025, 3, 4), datetime.date(2025, 3, 9), datetime.date(2025, 3, 19), datetime.date(2025, 3, 22), datetime.date(2025, 3, 26), datetime.date(2025, 4, 3), datetime.date(2025, 5, 3), datetime.date(2025, 5, 13), datetime.date(2025, 5, 28), datetime.date(2025, 7, 17)]\n"
     ]
    },
    {
     "data": {
      "image/png": "[encoded data removed]",
      "text/plain": [
       "<Figure size 1100x500 with 1 Axes>"
      ]
     },
     "metadata": {},
     "output_type": "display_data"
    }
   ],
   "source": [
    "def detect_peaks(group, value_col=\"chl_mean\", window=11, k=3.0, ignore_imputed=True):\n",
    "    \"\"\"Devuelve el mismo DataFrame con columnas: rolling_med, mad, z_robusto, is_peak.\"\"\"\n",
    "    g = group.sort_values(\"date\").copy()\n",
    "    x = g[value_col]\n",
    "\n",
    "    # mediana y MAD (robustos)\n",
    "    med = x.rolling(window, center=True, min_periods=max(3, window//2)).median()\n",
    "    mad = (x - med).abs().rolling(window, center=True, min_periods=max(3, window//2)).median()\n",
    "    zrob = (x - med) / (mad + 1e-6)\n",
    "\n",
    "    is_peak = zrob > k\n",
    "    if ignore_imputed and \"is_imputed_row\" in g.columns:\n",
    "        is_peak = is_peak & (~g[\"is_imputed_row\"])\n",
    "\n",
    "    g[\"rolling_med\"] = med\n",
    "    g[\"mad\"] = mad\n",
    "    g[\"z_robusto\"] = zrob\n",
    "    g[\"is_peak\"] = is_peak\n",
    "    return g\n",
    "\n",
    "peaks_df = (df_qc.groupby(\"lake\", group_keys=False)\n",
    "            .apply(detect_peaks, value_col=\"chl_mean\", window=11, k=3.0, ignore_imputed=True))\n",
    "\n",
    "# Resumen de picos por lago\n",
    "for lake, g in peaks_df.groupby(\"lake\"):\n",
    "    dates = g.loc[g[\"is_peak\"], \"date\"].dt.date.tolist()\n",
    "    print(f\"{lake}: {len(dates)} picos ->\", dates)\n",
    "\n",
    "# Visual anotando picos:\n",
    "plt.figure(figsize=(11,5))\n",
    "for lake, g in peaks_df.groupby(\"lake\"):\n",
    "    plt.plot(g[\"date\"], g[\"chl_mean_clip0\"], label=f\"{lake} (chl)\", linewidth=2)\n",
    "    plt.plot(g[\"date\"], g[\"rolling_med\"], linestyle=\"--\", alpha=0.7, label=f\"{lake} (mediana mov.)\")\n",
    "    pk = g[g[\"is_peak\"]]\n",
    "    plt.scatter(pk[\"date\"], pk[\"chl_mean_clip0\"], color=\"red\", zorder=3, label=f\"{lake} picos\")\n",
    "plt.title(\"Clorofila-a: detección de picos (mediana+MAD, k=3)\")\n",
    "plt.xlabel(\"Fecha\"); plt.ylabel(\"chl_mean (proxy)\"); plt.grid(True, alpha=0.3); plt.legend(ncol=2)\n",
    "plt.show()\n"
   ]
  },
  {
   "cell_type": "markdown",
   "id": "bfdaf6c3",
   "metadata": {},
   "source": [
    "### Mapa de la distribución de cianobacteria"
   ]
  },
  {
   "cell_type": "code",
   "execution_count": 34,
   "id": "3a27680b",
   "metadata": {},
   "outputs": [],
   "source": [
    "import folium\n",
    "from PIL import Image\n",
    "import matplotlib.cm as cm\n",
    "import matplotlib.colors as mcolors\n",
    "from rasterio.warp import transform_bounds\n",
    "\n",
    "BASE = Path(\"descargas_sentinelhub\")\n",
    "OUTF = Path(\"resultados/maps\"); OUTF.mkdir(parents=True, exist_ok=True)\n"
   ]
  },
  {
   "cell_type": "markdown",
   "id": "efba134f",
   "metadata": {},
   "source": [
    "### Guardando los png de los lagos"
   ]
  },
  {
   "cell_type": "code",
   "execution_count": 35,
   "id": "1be3dd8e",
   "metadata": {},
   "outputs": [],
   "source": [
    "def _bands_path(lake, date_str):\n",
    "    return BASE / lake / f\"{lake}__{date_str}.bands.tiff\"\n",
    "\n",
    "def _bounds_latlon(bands_path: Path):\n",
    "    with rasterio.open(bands_path) as src:\n",
    "        b = src.bounds; crs = src.crs\n",
    "        if crs and crs.to_string() != \"EPSG:4326\":\n",
    "            left, bottom, right, top = transform_bounds(crs, \"EPSG:4326\", b.left, b.bottom, b.right, b.top)\n",
    "        else:\n",
    "            left, bottom, right, top = b.left, b.bottom, b.right, b.top\n",
    "    return (left, bottom, right, top)\n",
    "\n",
    "def _save_rgba_png(arr, water_mask, out_png, vmin=None, vmax=None, cmap_name=\"viridis\", alpha=0.85):\n",
    "    a = np.ma.array(arr, mask=~water_mask)\n",
    "    if vmin is None or vmax is None:\n",
    "        vals = a.compressed()\n",
    "        if vals.size == 0:\n",
    "            raise ValueError(\"No hay píxeles de agua válidos para esta fecha.\")\n",
    "        vmin, vmax = np.nanpercentile(vals, [5, 95])\n",
    "\n",
    "    norm = mcolors.Normalize(vmin=vmin, vmax=vmax, clip=True)\n",
    "    cmap = cm.get_cmap(cmap_name)\n",
    "    rgba = cmap(norm(a.filled(vmin)))  # RGBA en [0,1]\n",
    "    rgba[..., 3] = np.where(water_mask, alpha, 0.0)\n",
    "    Image.fromarray((rgba*255).astype(np.uint8)).save(out_png)\n",
    "    return vmin, vmax"
   ]
  },
  {
   "cell_type": "markdown",
   "id": "649d2808",
   "metadata": {},
   "source": [
    "### Paleta de colores utilizada para identificar la chl"
   ]
  },
  {
   "cell_type": "code",
   "execution_count": 36,
   "id": "05e16172",
   "metadata": {},
   "outputs": [],
   "source": [
    "def _mpl_hex_colors(cmap_name=\"viridis\", n=6):\n",
    "    cmap = cm.get_cmap(cmap_name)\n",
    "    return [mcolors.to_hex(cmap(x)) for x in np.linspace(0, 1, n)]"
   ]
  },
  {
   "cell_type": "code",
   "execution_count": 37,
   "id": "db5e4125",
   "metadata": {},
   "outputs": [],
   "source": [
    "def _water_for_map(m):\n",
    "    w = np.asarray(m[\"water\"], bool)\n",
    "    if w.sum() == 0 and \"NDWI\" in m:\n",
    "        w_alt = np.asarray(m[\"NDWI\"]) > 0\n",
    "        if w_alt.sum() > 0: return w_alt\n",
    "    return w\n",
    "\n",
    "def _png_data_uri(png_path: Path) -> str:\n",
    "    b = png_path.read_bytes()\n",
    "    return \"data:image/png;base64,\" + base64.b64encode(b).decode(\"ascii\")"
   ]
  },
  {
   "cell_type": "markdown",
   "id": "dec31b21",
   "metadata": {},
   "source": [
    "### Función Helper para dibujar los mapas"
   ]
  },
  {
   "cell_type": "code",
   "execution_count": 38,
   "id": "9328b227",
   "metadata": {},
   "outputs": [],
   "source": [
    "def ipyl_chl_map(lake, date_str, width=320, height=260, vmin=None, vmax=None, alpha=0.85, show_legend=True):\n",
    "    mcache = maps_cache[lake][date_str]\n",
    "    chl = mcache[\"chl\"]; water = _water_for_map(mcache)\n",
    "\n",
    "    # genera PNG coloreado (usa tu helper existente)\n",
    "    png_path = OUTF / f\"{lake}__{date_str}__chl_ipy.png\"\n",
    "    vmin, vmax = _save_rgba_png(chl, water, png_path, vmin=vmin, vmax=vmax, cmap_name=\"viridis\", alpha=alpha)\n",
    "\n",
    "    # bounds y centro\n",
    "    left, bottom, right, top = _bounds_latlon(_bands_path(lake, date_str))\n",
    "    center = [(bottom+top)/2, (left+right)/2]\n",
    "\n",
    "    # crea mapa widget con tamaño fijo\n",
    "    m = Map(center=center, zoom=11, basemap=basemaps.CartoDB.Positron, scroll_wheel_zoom=True)\n",
    "    m.layout.width  = f\"{int(width)}px\"\n",
    "    m.layout.height = f\"{int(height)}px\"\n",
    "\n",
    "    # overlay como data URI (sin archivos locales)\n",
    "    overlay = ImageOverlay(url=_png_data_uri(png_path), bounds=((bottom, left), (top, right)), opacity=1.0)\n",
    "    m.add(overlay)\n",
    "\n",
    "    # leyenda opcional\n",
    "    if show_legend:\n",
    "        # banda de colores viridis (simple CSS con stops)\n",
    "        colors = _mpl_hex_colors(\"viridis\", n=8)\n",
    "        grad = \", \".join([f\"{c} {i*100//(len(colors)-1)}%\" for i, c in enumerate(colors)])\n",
    "        legend_html = f\"\"\"\n",
    "        <div style=\"background:white;padding:6px 8px;border-radius:4px;border:1px solid #ddd;font:12px sans-serif;\">\n",
    "          <div style=\"margin-bottom:4px;\"><b>Clorofila-a (proxy)</b></div>\n",
    "          <div style=\"width:160px;height:12px;background:linear-gradient(to right,{grad});border:1px solid #ccc;\"></div>\n",
    "          <div style=\"display:flex;justify-content:space-between;font:11px sans-serif;\">\n",
    "            <span>{vmin:.1f}</span><span>{vmax:.1f}</span>\n",
    "          </div>\n",
    "        </div>\n",
    "        \"\"\"\n",
    "        ctl = WidgetControl(widget=W.HTML(value=legend_html), position=\"topright\")\n",
    "        m.add_control(ctl)\n",
    "\n",
    "    return m"
   ]
  },
  {
   "cell_type": "markdown",
   "id": "31b1775d",
   "metadata": {},
   "source": [
    "### Ejemplo de mapa de Atitlán"
   ]
  },
  {
   "cell_type": "code",
   "execution_count": 39,
   "id": "ba7d926e",
   "metadata": {},
   "outputs": [
    {
     "name": "stderr",
     "output_type": "stream",
     "text": [
      "C:\\Users\\n8nug\\AppData\\Local\\Temp\\ipykernel_7236\\1761363087.py:22: MatplotlibDeprecationWarning: The get_cmap function was deprecated in Matplotlib 3.7 and will be removed in 3.11. Use ``matplotlib.colormaps[name]`` or ``matplotlib.colormaps.get_cmap()`` or ``pyplot.get_cmap()`` instead.\n",
      "  cmap = cm.get_cmap(cmap_name)\n",
      "C:\\Users\\n8nug\\AppData\\Local\\Temp\\ipykernel_7236\\1231209048.py:2: MatplotlibDeprecationWarning: The get_cmap function was deprecated in Matplotlib 3.7 and will be removed in 3.11. Use ``matplotlib.colormaps[name]`` or ``matplotlib.colormaps.get_cmap()`` or ``pyplot.get_cmap()`` instead.\n",
      "  cmap = cm.get_cmap(cmap_name)\n"
     ]
    },
    {
     "data": {
      "application/vnd.jupyter.widget-view+json": {
       "model_id": "5930a676ca034d67a5cd563afd93002c",
       "version_major": 2,
       "version_minor": 0
      },
      "text/plain": [
       "Map(center=[14.6728895, -91.198883], controls=(ZoomControl(options=['position', 'zoom_in_text', 'zoom_in_title…"
      ]
     },
     "execution_count": 39,
     "metadata": {},
     "output_type": "execute_result"
    }
   ],
   "source": [
    "ipyl_chl_map(\"atitlan\", \"2025-02-07\", width=600, height=600)"
   ]
  },
  {
   "cell_type": "markdown",
   "id": "b7cf6c9e",
   "metadata": {},
   "source": [
    "### Ejemplo de mapa de Amatitlán"
   ]
  },
  {
   "cell_type": "code",
   "execution_count": 40,
   "id": "888911e4",
   "metadata": {},
   "outputs": [
    {
     "name": "stderr",
     "output_type": "stream",
     "text": [
      "C:\\Users\\n8nug\\AppData\\Local\\Temp\\ipykernel_7236\\1761363087.py:22: MatplotlibDeprecationWarning: The get_cmap function was deprecated in Matplotlib 3.7 and will be removed in 3.11. Use ``matplotlib.colormaps[name]`` or ``matplotlib.colormaps.get_cmap()`` or ``pyplot.get_cmap()`` instead.\n",
      "  cmap = cm.get_cmap(cmap_name)\n",
      "C:\\Users\\n8nug\\AppData\\Local\\Temp\\ipykernel_7236\\1231209048.py:2: MatplotlibDeprecationWarning: The get_cmap function was deprecated in Matplotlib 3.7 and will be removed in 3.11. Use ``matplotlib.colormaps[name]`` or ``matplotlib.colormaps.get_cmap()`` or ``pyplot.get_cmap()`` instead.\n",
      "  cmap = cm.get_cmap(cmap_name)\n"
     ]
    },
    {
     "data": {
      "application/vnd.jupyter.widget-view+json": {
       "model_id": "2e488a21b5ed4d0b9a1a6c64f1f4a0ba",
       "version_major": 2,
       "version_minor": 0
      },
      "text/plain": [
       "Map(center=[14.453073, -90.57549449999999], controls=(ZoomControl(options=['position', 'zoom_in_text', 'zoom_i…"
      ]
     },
     "execution_count": 40,
     "metadata": {},
     "output_type": "execute_result"
    }
   ],
   "source": [
    "ipyl_chl_map(\"amatitlan\", \"2025-02-07\", width=600, height=600)"
   ]
  },
  {
   "cell_type": "markdown",
   "id": "b139cb20",
   "metadata": {},
   "source": [
    "### Mapas comparativos entre diferentes fechas para cada lago"
   ]
  },
  {
   "cell_type": "code",
   "execution_count": 41,
   "id": "4ead5a03",
   "metadata": {},
   "outputs": [],
   "source": [
    "def compute_subset_scale(lakes, dates, q=(5,95)):\n",
    "    vals = []\n",
    "    for lake in lakes:\n",
    "        for d in dates:\n",
    "            m = maps_cache.get(lake, {}).get(d)\n",
    "            if not m: continue\n",
    "            a = np.ma.array(m[\"chl\"], mask=~_water_for_map(m))\n",
    "            if a.count(): vals.append(a.compressed())\n",
    "    allv = np.concatenate(vals) if vals else np.array([0,1])\n",
    "    vmin, vmax = np.nanpercentile(allv, q)\n",
    "    return float(vmin), float(vmax)\n",
    "\n",
    "def compare_dates_grid_ipyl(lakes, dates, width=320, height=260, show_legend_in=\"top-right\"):\n",
    "    vmin, vmax = compute_subset_scale(lakes, dates, q=(5,95))\n",
    "    items = []\n",
    "    first = True\n",
    "    for lake in lakes:\n",
    "        for d in dates:\n",
    "            show_leg = first and (show_legend_in is not None)\n",
    "            items.append(ipyl_chl_map(lake, d, width=width, height=height, vmin=vmin, vmax=vmax, show_legend=show_leg))\n",
    "            first = False\n",
    "    grid = GridBox(items, layout=Layout(\n",
    "        grid_template_columns=f\"repeat({len(dates)}, {width}px)\",\n",
    "        grid_gap=\"8px\"\n",
    "    ))\n",
    "    return grid"
   ]
  },
  {
   "cell_type": "code",
   "execution_count": 42,
   "id": "e385e169",
   "metadata": {},
   "outputs": [
    {
     "name": "stderr",
     "output_type": "stream",
     "text": [
      "C:\\Users\\n8nug\\AppData\\Local\\Temp\\ipykernel_7236\\1761363087.py:22: MatplotlibDeprecationWarning: The get_cmap function was deprecated in Matplotlib 3.7 and will be removed in 3.11. Use ``matplotlib.colormaps[name]`` or ``matplotlib.colormaps.get_cmap()`` or ``pyplot.get_cmap()`` instead.\n",
      "  cmap = cm.get_cmap(cmap_name)\n",
      "C:\\Users\\n8nug\\AppData\\Local\\Temp\\ipykernel_7236\\1231209048.py:2: MatplotlibDeprecationWarning: The get_cmap function was deprecated in Matplotlib 3.7 and will be removed in 3.11. Use ``matplotlib.colormaps[name]`` or ``matplotlib.colormaps.get_cmap()`` or ``pyplot.get_cmap()`` instead.\n",
      "  cmap = cm.get_cmap(cmap_name)\n"
     ]
    },
    {
     "data": {
      "application/vnd.jupyter.widget-view+json": {
       "model_id": "ebfa671e78034e5c97ed39869424626a",
       "version_major": 2,
       "version_minor": 0
      },
      "text/plain": [
       "GridBox(children=(Map(center=[14.6728895, -91.198883], controls=(ZoomControl(options=['position', 'zoom_in_tex…"
      ]
     },
     "execution_count": 42,
     "metadata": {},
     "output_type": "execute_result"
    }
   ],
   "source": [
    "dates = [\"2025-02-07\", \"2025-03-14\", \"2025-04-03\"]\n",
    "lakes = [\"atitlan\", \"amatitlan\"]\n",
    "compare_dates_grid_ipyl(lakes, dates, width=320, height=260)"
   ]
  }
 ],
 "metadata": {
  "kernelspec": {
   "display_name": "venv",
   "language": "python",
   "name": "python3"
  },
  "language_info": {
   "codemirror_mode": {
    "name": "ipython",
    "version": 3
   },
   "file_extension": ".py",
   "mimetype": "text/x-python",
   "name": "python",
   "nbconvert_exporter": "python",
   "pygments_lexer": "ipython3",
   "version": "3.12.1"
  }
 },
 "nbformat": 4,
 "nbformat_minor": 5
}
